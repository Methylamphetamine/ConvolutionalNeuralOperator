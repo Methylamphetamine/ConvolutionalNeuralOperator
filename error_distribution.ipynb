{
 "cells": [
  {
   "cell_type": "code",
   "execution_count": 15,
   "metadata": {},
   "outputs": [],
   "source": [
    "import os\n",
    "os.environ[\"CUDA_VISIBLE_DEVICES\"]=\"0\""
   ]
  },
  {
   "cell_type": "code",
   "execution_count": 16,
   "metadata": {},
   "outputs": [],
   "source": [
    "import random\n",
    "\n",
    "import h5py\n",
    "import matplotlib.pylab as plt\n",
    "import numpy as np\n",
    "import pandas as pd\n",
    "#import seaborn as sn\n",
    "import torch\n",
    "import ast\n",
    "import scipy\n",
    "import torch.nn as nn\n",
    "\n",
    "#import seaborn as sns\n",
    "import pandas as pd\n",
    "from scipy import stats\n",
    "\n",
    "import scipy\n",
    "from random import randint"
   ]
  },
  {
   "cell_type": "code",
   "execution_count": 17,
   "metadata": {},
   "outputs": [],
   "source": [
    "def load_data(folder, which_model, device, which_example, in_size = 64, batch_size = 32, training_samples = 1, in_dist = True):\n",
    "    \n",
    "    if which_model == \"CNO\":\n",
    "        from Problems.CNOBenchmarks_new_normalization import Darcy, Airfoil, DiscContTranslation, ContTranslation, AllenCahn, SinFrequency, WaveEquation, ShearLayer\n",
    "    elif which_model == \"FNO\":\n",
    "        from Problems.FNOBenchmarks import Darcy, Airfoil, DiscContTranslation, ContTranslation, AllenCahn, SinFrequency, WaveEquation, ShearLayer\n",
    "\n",
    "    model_architecture_ = dict()\n",
    "    with open(folder + \"/net_architecture.txt\") as f:\n",
    "        for line in f:\n",
    "            key_values = line.replace(\"\\n\", \"\").split(\",\")\n",
    "            key = key_values[0]\n",
    "            # NOTE: activation is str and cannot be converted to int\n",
    "            try:\n",
    "                value = ast.literal_eval(key_values[1])\n",
    "                model_architecture_[key] = int(value)\n",
    "            except ValueError:\n",
    "                pass\n",
    "                \n",
    "    model_architecture_[\"in_size\"] = in_size\n",
    "    \n",
    "    if which_model == \"CNO\" or which_model == \"UNET\":\n",
    "        if which_example == \"shear_layer\":\n",
    "            example = ShearLayer(model_architecture_, device, batch_size, training_samples, in_dist = in_dist)\n",
    "        elif which_example == \"poisson\":\n",
    "            example = SinFrequency(model_architecture_, device, batch_size, in_dist = in_dist)\n",
    "        elif which_example == \"wave_0_5\":\n",
    "            example = WaveEquation(model_architecture_, device, batch_size, in_dist = in_dist)\n",
    "        elif which_example == \"allen\":\n",
    "            example = AllenCahn(model_architecture_, device, batch_size, in_dist = in_dist)\n",
    "        elif which_example == \"cont_tran\":\n",
    "            example = ContTranslation(model_architecture_, device, batch_size, in_dist = in_dist)\n",
    "        elif which_example == \"darcy\":\n",
    "            example = Darcy(model_architecture_, device, batch_size, in_dist = in_dist)\n",
    "        elif which_example == \"disc_tran\":\n",
    "            example = DiscContTranslation(model_architecture_, device, batch_size, training_samples, in_dist = in_dist)\n",
    "        elif which_example == \"airfoil\":\n",
    "            example = Airfoil(model_architecture_, device, batch_size, training_samples, in_dist = in_dist)\n",
    "\n",
    "        else:\n",
    "            raise ValueError()\n",
    "    \n",
    "    elif which_model == \"FNO\":\n",
    "        \n",
    "        if which_example == \"shear_layer\":\n",
    "            example = ShearLayer(model_architecture_, device, batch_size, training_samples, in_dist = in_dist)\n",
    "        elif which_example == \"poisson\":\n",
    "            example = SinFrequency(model_architecture_, device, batch_size, s = 64, in_dist = in_dist)\n",
    "        elif which_example == \"wave_0_5\":\n",
    "            example = WaveEquation(model_architecture_, device, batch_size, in_dist = in_dist)\n",
    "        elif which_example == \"allen\":\n",
    "            example = AllenCahn(model_architecture_, device, batch_size, in_dist = in_dist)\n",
    "        elif which_example == \"cont_tran\":\n",
    "            example = ContTranslation(model_architecture_, device, batch_size, training_samples, in_dist = in_dist)\n",
    "        elif which_example == \"darcy\":\n",
    "            example = Darcy(model_architecture_, device, batch_size, training_samples, in_dist = in_dist)\n",
    "        elif which_example == \"disc_tran\":\n",
    "            example = DiscContTranslation(model_architecture_, device, batch_size,training_samples, in_dist = in_dist)\n",
    "        elif which_example == \"airfoil\":\n",
    "            example = Airfoil(model_architecture_, device, batch_size, training_samples, in_dist = in_dist)\n",
    "        else:\n",
    "            raise ValueError()\n",
    "    \n",
    "    testing_loader = example.test_loader\n",
    "    \n",
    "    # NOTE: also add example as output\n",
    "    return testing_loader"
   ]
  },
  {
   "cell_type": "code",
   "execution_count": 18,
   "metadata": {},
   "outputs": [],
   "source": [
    "def error_distribution(which_model, model, testing_loader, p, N, device, which = \"shear_layer\"):\n",
    "    E_diss = np.zeros(N)\n",
    "    cnt = 0\n",
    "    \n",
    "    with torch.no_grad():\n",
    "        for i, (inputs, outputs) in enumerate(testing_loader):\n",
    "            \n",
    "            batch = inputs.shape[0]            \n",
    "\n",
    "            if i>=N:\n",
    "                break\n",
    "                \n",
    "            if which_model == \"CNO\" or which_model == \"UNET\":\n",
    "                \n",
    "                inputs = inputs.to(device)\n",
    "                outputs = outputs.to(device)\n",
    "                prediction = model(inputs)\n",
    "\n",
    "                if which == \"airfoil\":\n",
    "                    outputs[inputs==1] = 1\n",
    "                    prediction[inputs==1] = 1\n",
    "                \n",
    "                err = (torch.mean(abs(prediction[:,0,:,:] - outputs[:,0,:,:]) ** p, (-2, -1)) / torch.mean(abs(outputs[:,0,:,:]) ** p, (-2, -1))) ** (1 / p) * 100\n",
    "                \n",
    "            elif which_model == \"FNO\":\n",
    "                inputs = inputs.to(model.device)\n",
    "                outputs = outputs.to(model.device)\n",
    "                prediction = model(inputs)\n",
    "                \n",
    "                if which == \"airfoil\":\n",
    "                    outputs[inputs==1] = 1\n",
    "                    prediction[inputs==1] = 1\n",
    "                \n",
    "                err = (torch.mean(abs(prediction[:,:, :, 0] - outputs[:, :, :, 0]) ** p, (-2, -1)) / torch.mean(abs(outputs[:, :, :,0]) ** p, (-2, -1))) ** (1 / p) * 100\n",
    "            \n",
    "            else:\n",
    "                return None\n",
    "            \n",
    "            E_diss[cnt: cnt + batch] = err.detach().cpu().numpy()\n",
    "            cnt+=batch\n",
    "    \n",
    "            \n",
    "    \n",
    "    return E_diss"
   ]
  },
  {
   "cell_type": "code",
   "execution_count": 19,
   "metadata": {},
   "outputs": [],
   "source": [
    "device = 'cuda:0'\n",
    "which_model = 'poisson'\n",
    "folder = 'TrainedReportedModels_NoEarlyStopping_new_normalization/CNO_poisson_1'\n",
    "test_loader = load_data(folder, 'CNO', device, which_model, in_size = 64, batch_size = 32, training_samples = 1, in_dist = True)\n",
    "ood_test_loader= load_data(folder, 'CNO', device, which_model, in_size = 64, batch_size = 32, training_samples = 1, in_dist = False)"
   ]
  },
  {
   "cell_type": "code",
   "execution_count": 28,
   "metadata": {},
   "outputs": [
    {
     "name": "stdout",
     "output_type": "stream",
     "text": [
      "0.2109132930636406\n",
      "0.2718319892883301\n"
     ]
    }
   ],
   "source": [
    "model = torch.load('eth/eth_poisson_model.pkl', map_location=torch.device(device))\n",
    "test_errors = error_distribution('CNO', model, test_loader, 1, 256, device, which = \"shear_layer\")\n",
    "ood_test_errors = error_distribution('CNO', model, ood_test_loader, 1, 256, device, which = \"shear_layer\")\n",
    "print(np.median(test_errors))\n",
    "print(np.median(ood_test_errors))"
   ]
  },
  {
   "cell_type": "code",
   "execution_count": 29,
   "metadata": {},
   "outputs": [
    {
     "name": "stdout",
     "output_type": "stream",
     "text": [
      "0.2851915657520294\n",
      "0.43258820474147797\n"
     ]
    }
   ],
   "source": [
    "model = torch.load('TrainedReportedModels_NoEarlyStopping_new_normalization/CNO_poisson_1/model.pkl', map_location=torch.device(device))\n",
    "test_errors = error_distribution('CNO', model, test_loader, 1, 256, device, which = \"shear_layer\")\n",
    "ood_test_errors = error_distribution('CNO', model, ood_test_loader, 1, 256, device, which = \"shear_layer\")\n",
    "print(np.median(test_errors))\n",
    "print(np.median(ood_test_errors))"
   ]
  },
  {
   "cell_type": "code",
   "execution_count": null,
   "metadata": {},
   "outputs": [],
   "source": []
  }
 ],
 "metadata": {
  "kernelspec": {
   "display_name": "base",
   "language": "python",
   "name": "python3"
  },
  "language_info": {
   "codemirror_mode": {
    "name": "ipython",
    "version": 3
   },
   "file_extension": ".py",
   "mimetype": "text/x-python",
   "name": "python",
   "nbconvert_exporter": "python",
   "pygments_lexer": "ipython3",
   "version": "3.9.13"
  }
 },
 "nbformat": 4,
 "nbformat_minor": 2
}
