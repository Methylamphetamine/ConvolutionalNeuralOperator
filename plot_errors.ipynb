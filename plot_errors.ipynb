{
 "cells": [
  {
   "cell_type": "code",
   "execution_count": 1,
   "metadata": {},
   "outputs": [],
   "source": [
    "import os\n",
    "os.environ['CUDA_VISIBLE_DEVICES'] = '1'"
   ]
  },
  {
   "cell_type": "code",
   "execution_count": 2,
   "metadata": {},
   "outputs": [],
   "source": [
    "import torch\n",
    "import ast\n",
    "import numpy as onp\n",
    "import seaborn as sns\n",
    "from matplotlib import pyplot as plt\n",
    "\n",
    "from Problems.CNOBenchmarks import Darcy, Airfoil, DiscContTranslation, ContTranslation, AllenCahn, SinFrequency, WaveEquation, ShearLayer\n",
    "from Problems.PDEArenaBenchmarks import StandardNavierStokes"
   ]
  },
  {
   "cell_type": "code",
   "execution_count": 3,
   "metadata": {},
   "outputs": [],
   "source": [
    "plt.rcParams.update(plt.rcParamsDefault)\n",
    "plt.rc('font', family='serif')\n",
    "plt.rcParams.update({\n",
    "                      \"text.usetex\": True,\n",
    "                      \"font.family\": \"serif\",\n",
    "                      'text.latex.preamble': r'\\usepackage{amsmath}'})"
   ]
  },
  {
   "cell_type": "code",
   "execution_count": 4,
   "metadata": {},
   "outputs": [],
   "source": [
    "device = torch.device('cuda' if torch.cuda.is_available() else 'cpu')"
   ]
  },
  {
   "cell_type": "code",
   "execution_count": 5,
   "metadata": {},
   "outputs": [],
   "source": [
    "def load_model(root_folder, which_example, device, batch_size, in_dist, prefix = 'CNO_', postfix = \"_1\"):\n",
    "    \n",
    "    folder = root_folder + \"/\" + prefix + which_example + postfix\n",
    "\n",
    "    model_architecture_ = dict()\n",
    "    with open(folder + \"/net_architecture.txt\") as f:\n",
    "        for line in f:\n",
    "            key_values = line.replace(\"\\n\", \"\").split(\",\")\n",
    "            key = key_values[0]\n",
    "            if key_values[0] == 'activation':\n",
    "                value = key_values[1]\n",
    "                model_architecture_[key] = value\n",
    "            else:\n",
    "                value = ast.literal_eval(key_values[1])\n",
    "                model_architecture_[key] = int(value)\n",
    "\n",
    "    with open(folder + \"/training_properties.txt\") as f:\n",
    "        for line in f:\n",
    "            key, value = line.replace(\"\\n\", \"\").split(\",\")\n",
    "            if key == 'training_samples':\n",
    "                training_samples = int(ast.literal_eval(value))\n",
    "\n",
    "    \n",
    "\n",
    "\n",
    "    if which_example == \"shear_layer\":\n",
    "        example = ShearLayer(model_architecture_, device, batch_size, training_samples, size = model_architecture_['in_size'], in_dist = in_dist)\n",
    "    elif which_example == \"poisson\":\n",
    "        example = SinFrequency(model_architecture_, device, batch_size, training_samples, in_dist = in_dist)\n",
    "    elif which_example == \"wave_0_5\":\n",
    "        example = WaveEquation(model_architecture_, device, batch_size, training_samples, in_dist = in_dist)\n",
    "    elif which_example == \"allen\":\n",
    "        example = AllenCahn(model_architecture_, device, batch_size, training_samples, in_dist = in_dist)\n",
    "    elif which_example == \"cont_tran\":\n",
    "        example = ContTranslation(model_architecture_, device, batch_size, training_samples, in_dist = in_dist)\n",
    "    elif which_example == \"disc_tran\":\n",
    "        example = DiscContTranslation(model_architecture_, device, batch_size, training_samples, in_dist = in_dist)\n",
    "    elif which_example == \"airfoil\":\n",
    "        example = Airfoil(model_architecture_, device, batch_size, training_samples, in_dist = in_dist)\n",
    "    elif which_example == \"darcy\":\n",
    "        example = Darcy(model_architecture_, device, batch_size, training_samples, in_dist = in_dist)\n",
    "    elif which_example == \"ns\":\n",
    "        example = StandardNavierStokes(model_architecture_, device, batch_size, training_samples, size = None, in_dist = in_dist)\n",
    "    else:\n",
    "        raise ValueError()\n",
    "    \n",
    "    example.model = torch.load(folder + \"/model.pkl\", map_location=torch.device(device))\n",
    "        \n",
    "    return example, folder"
   ]
  },
  {
   "cell_type": "code",
   "execution_count": 6,
   "metadata": {},
   "outputs": [],
   "source": [
    "def relative_errors(prediction, target, p, axis = [-2, -1], reduction_axis = 1):\n",
    "    # NOTE reduction_axis is the feature axis. The relative errors on each feature dimension are averaged in this case.\n",
    "    diff = torch.abs(prediction - target)\n",
    "    target = torch.abs(target)\n",
    "\n",
    "    error =  torch.sum(diff ** p, axis = axis) / torch.sum(target ** p, axis = axis)\n",
    "    error = torch.pow(error, 1/p)\n",
    "    return error.mean(reduction_axis)"
   ]
  },
  {
   "cell_type": "code",
   "execution_count": 7,
   "metadata": {},
   "outputs": [],
   "source": [
    "def calculate_error_distribution(example):\n",
    "    with torch.no_grad():\n",
    "        example.model.eval()\n",
    "\n",
    "        errors = []\n",
    "\n",
    "        for inputs, outputs in example.test_loader:\n",
    "            outputs = outputs.to(device)\n",
    "            predictions = example.model(inputs.to(device))\n",
    "\n",
    "            errors.append(relative_errors(predictions, outputs, 2).detach().cpu().numpy().flatten())\n",
    "\n",
    "        errors = onp.concatenate(errors, 0)\n",
    "\n",
    "    return errors\n",
    "        "
   ]
  },
  {
   "cell_type": "code",
   "execution_count": 8,
   "metadata": {},
   "outputs": [],
   "source": [
    "root_folder = '/scratch/wangh19/ConvolutionalNeuralOperator/TrainedModels'\n",
    "CNO_examples = [\n",
    "    \"shear_layer\",\n",
    "    \"poisson\",\n",
    "    \"wave_0_5\",\n",
    "    \"allen\",\n",
    "    \"cont_tran\",\n",
    "    \"disc_tran\",\n",
    "    \"airfoil\",\n",
    "    \"darcy\",\n",
    "]\n",
    "\n",
    "show = False"
   ]
  },
  {
   "cell_type": "code",
   "execution_count": 9,
   "metadata": {},
   "outputs": [
    {
     "name": "stdout",
     "output_type": "stream",
     "text": [
      "Setting up PyTorch plugin \"filtered_lrelu_plugin\"... Done.\n",
      "shear_layer , in dist test rel. l2 error 3.85%, out dist test rel. l2 error 16.67%\n",
      "poisson     , in dist test rel. l2 error 1.18%, out dist test rel. l2 error 529.34%\n",
      "wave_0_5    , in dist test rel. l2 error 0.57%, out dist test rel. l2 error 6.24%\n",
      "allen       , in dist test rel. l2 error 1.11%, out dist test rel. l2 error 49.40%\n",
      "cont_tran   , in dist test rel. l2 error 0.21%, out dist test rel. l2 error 0.32%\n",
      "disc_tran   , in dist test rel. l2 error 1.82%, out dist test rel. l2 error 2.10%\n",
      "airfoil     , in dist test rel. l2 error 6.82%, out dist test rel. l2 error 6.98%\n",
      "darcy       , in dist test rel. l2 error 0.66%, out dist test rel. l2 error 0.44%\n",
      "ns          , in dist test rel. l2 error 5.84%\n"
     ]
    }
   ],
   "source": [
    "for which_example in CNO_examples + ['ns']:\n",
    "\n",
    "    example, example_folder = load_model(root_folder, which_example, device, batch_size=16, in_dist = True)\n",
    "    errors = calculate_error_distribution(example)\n",
    "\n",
    "    sns.displot(errors * 100, kind = \"kde\")\n",
    "    plt.xlabel(\"Test Error Distribution (in \\%)\")\n",
    "    plt.savefig(example_folder + \"/test_error_distribution.png\", bbox_inches = 'tight', dpi = 300)\n",
    "    if show:\n",
    "        plt.show()\n",
    "    plt.close()\n",
    "\n",
    "    if not which_example == \"ns\":\n",
    "        example, _ = load_model(root_folder, which_example, device, batch_size=16, in_dist = False)\n",
    "        errors_ood = calculate_error_distribution(example)\n",
    "\n",
    "\n",
    "        sns.displot(errors_ood * 100, kind = \"kde\")\n",
    "        plt.xlabel(\"OOD Error Distribution (in \\%)\")\n",
    "        plt.savefig(example_folder + \"/ood_error_distribution.png\", bbox_inches = 'tight', dpi = 300)\n",
    "        if show:\n",
    "            plt.show()\n",
    "        plt.close()\n",
    "\n",
    "        print(f\"{which_example: <12}, in dist test rel. l2 error {errors.mean() * 100:.2f}%, out dist test rel. l2 error {errors_ood.mean() * 100:.2f}%\")\n",
    "    else:\n",
    "        print(f\"{which_example: <12}, in dist test rel. l2 error {errors.mean() * 100:.2f}%\")"
   ]
  },
  {
   "cell_type": "code",
   "execution_count": null,
   "metadata": {},
   "outputs": [],
   "source": []
  }
 ],
 "metadata": {
  "kernelspec": {
   "display_name": "base",
   "language": "python",
   "name": "python3"
  },
  "language_info": {
   "codemirror_mode": {
    "name": "ipython",
    "version": 3
   },
   "file_extension": ".py",
   "mimetype": "text/x-python",
   "name": "python",
   "nbconvert_exporter": "python",
   "pygments_lexer": "ipython3",
   "version": "3.9.13"
  }
 },
 "nbformat": 4,
 "nbformat_minor": 2
}
